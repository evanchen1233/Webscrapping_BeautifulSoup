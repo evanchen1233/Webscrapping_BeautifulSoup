{
 "cells": [
  {
   "cell_type": "markdown",
   "id": "10a8c8f7",
   "metadata": {},
   "source": [
    "## Webscrapping with BeautifulSoup\n",
    "In this project, I would like to scrap Used Cars data from \"https://www.sydneycars.com.au/\" by BeautifulSoup."
   ]
  },
  {
   "cell_type": "code",
   "execution_count": 1,
   "id": "3e1ee51f",
   "metadata": {},
   "outputs": [],
   "source": [
    "from bs4 import BeautifulSoup\n",
    "import pandas as pd\n",
    "import requests"
   ]
  },
  {
   "cell_type": "markdown",
   "id": "843d9db1",
   "metadata": {},
   "source": [
    "The url located the page which I am interested in.\n",
    "And the \"<Response [200]>\" is the HTTP response status code we got from my requests, which means successfull."
   ]
  },
  {
   "cell_type": "code",
   "execution_count": 9,
   "id": "4c62f7c6",
   "metadata": {},
   "outputs": [
    {
     "data": {
      "text/plain": [
       "<Response [200]>"
      ]
     },
     "execution_count": 9,
     "metadata": {},
     "output_type": "execute_result"
    }
   ],
   "source": [
    "url= \"https://www.sydneycars.com.au/\"\n",
    "agent = {'User-agent': 'Mozilla/5.0 (Windows NT 10.0; Win64; x64) AppleWebKit/537.36 (KHTML, like Gecko) Chrome/105.0.0.0 Safari/537.36'}\n",
    "page = requests.get(url, headers=agent)\n",
    "page"
   ]
  },
  {
   "cell_type": "markdown",
   "id": "9db1900f",
   "metadata": {},
   "source": [
    "Let's copy all html code in to varible soup. The details we want is under 'div', with a class called \"card mb-4 w-100 border border-0 border-warning\". We can use function find_all to achieve that."
   ]
  },
  {
   "cell_type": "code",
   "execution_count": 10,
   "id": "b6affbd4",
   "metadata": {},
   "outputs": [],
   "source": [
    "soup = BeautifulSoup(page.content, 'html.parser')\n",
    "lists = soup.find_all('div', class_=\"card mb-4 w-100 border border-0 border-warning\")"
   ]
  },
  {
   "cell_type": "markdown",
   "id": "0d30676c",
   "metadata": {},
   "source": [
    "Now, all information we want is in \"lists\". We then use a nest for-loop to obtain car price, model, year transimission type and km travelled from \"lists\". We can use string.replace() function to remove unnecessary charactors and append all data in to a list \"car\"."
   ]
  },
  {
   "cell_type": "code",
   "execution_count": 11,
   "id": "29c3ff26",
   "metadata": {},
   "outputs": [
    {
     "data": {
      "text/plain": [
       "['Holden Astra',\n",
       " ' 2005',\n",
       " 'Manual transmission',\n",
       " '220604 ',\n",
       " '5400',\n",
       " 'Ford Fiesta',\n",
       " ' 2005',\n",
       " 'Manual transmission',\n",
       " '154608 ',\n",
       " '5490',\n",
       " 'Mitsubishi Lancer',\n",
       " ' 1998',\n",
       " 'Automatic Transmission',\n",
       " '202,243',\n",
       " '5400',\n",
       " 'Dodge Caliber',\n",
       " ' 2011',\n",
       " 'Automatic Transmission',\n",
       " '136,346 ',\n",
       " '8900',\n",
       " 'Peugeot 308 HDi',\n",
       " ' 2010',\n",
       " 'Manual transmission',\n",
       " '99,281 ',\n",
       " '9400',\n",
       " 'Renault Koleos SUV',\n",
       " ' 2010',\n",
       " 'Manual transmission',\n",
       " '170,000',\n",
       " '9990']"
      ]
     },
     "execution_count": 11,
     "metadata": {},
     "output_type": "execute_result"
    }
   ],
   "source": [
    "car = []\n",
    "for list in lists:\n",
    "    price = list.find('h5', class_=\"mb-3 text-center\").text.replace('\\n', '').replace('$', '')\n",
    "    price = price.replace(u' \\xa0', u'')\n",
    "    vehicles = list.find_all('li', style=\"list-style-type:none!important;font-size:15px;line-height:25px;text-align: left;\")\n",
    "    for vehicle in vehicles:\n",
    "        vehicle = str(vehicle).split(\">\")[-2][:-4].replace('\\xa0', '').replace('kms ', '').replace('kms', u'').replace('Year', '').replace(' model','')\n",
    "        car.append(vehicle)\n",
    "        \n",
    "    car.append(price)\n",
    "car\n"
   ]
  },
  {
   "cell_type": "markdown",
   "id": "0433c068",
   "metadata": {},
   "source": [
    "We then change our list to a list of lists and convert into a dataframe for clear view."
   ]
  },
  {
   "cell_type": "code",
   "execution_count": 12,
   "id": "27a8dc3a",
   "metadata": {},
   "outputs": [
    {
     "data": {
      "text/html": [
       "<div>\n",
       "<style scoped>\n",
       "    .dataframe tbody tr th:only-of-type {\n",
       "        vertical-align: middle;\n",
       "    }\n",
       "\n",
       "    .dataframe tbody tr th {\n",
       "        vertical-align: top;\n",
       "    }\n",
       "\n",
       "    .dataframe thead th {\n",
       "        text-align: right;\n",
       "    }\n",
       "</style>\n",
       "<table border=\"1\" class=\"dataframe\">\n",
       "  <thead>\n",
       "    <tr style=\"text-align: right;\">\n",
       "      <th></th>\n",
       "      <th>Model</th>\n",
       "      <th>Make Year</th>\n",
       "      <th>Transmission Type</th>\n",
       "      <th>Travelled (km)</th>\n",
       "      <th>Price ($)</th>\n",
       "    </tr>\n",
       "  </thead>\n",
       "  <tbody>\n",
       "    <tr>\n",
       "      <th>0</th>\n",
       "      <td>Holden Astra</td>\n",
       "      <td>2005</td>\n",
       "      <td>Manual transmission</td>\n",
       "      <td>220604</td>\n",
       "      <td>5400</td>\n",
       "    </tr>\n",
       "    <tr>\n",
       "      <th>1</th>\n",
       "      <td>Ford Fiesta</td>\n",
       "      <td>2005</td>\n",
       "      <td>Manual transmission</td>\n",
       "      <td>154608</td>\n",
       "      <td>5490</td>\n",
       "    </tr>\n",
       "    <tr>\n",
       "      <th>2</th>\n",
       "      <td>Mitsubishi Lancer</td>\n",
       "      <td>1998</td>\n",
       "      <td>Automatic Transmission</td>\n",
       "      <td>202,243</td>\n",
       "      <td>5400</td>\n",
       "    </tr>\n",
       "    <tr>\n",
       "      <th>3</th>\n",
       "      <td>Dodge Caliber</td>\n",
       "      <td>2011</td>\n",
       "      <td>Automatic Transmission</td>\n",
       "      <td>136,346</td>\n",
       "      <td>8900</td>\n",
       "    </tr>\n",
       "    <tr>\n",
       "      <th>4</th>\n",
       "      <td>Peugeot 308 HDi</td>\n",
       "      <td>2010</td>\n",
       "      <td>Manual transmission</td>\n",
       "      <td>99,281</td>\n",
       "      <td>9400</td>\n",
       "    </tr>\n",
       "    <tr>\n",
       "      <th>5</th>\n",
       "      <td>Renault Koleos SUV</td>\n",
       "      <td>2010</td>\n",
       "      <td>Manual transmission</td>\n",
       "      <td>170,000</td>\n",
       "      <td>9990</td>\n",
       "    </tr>\n",
       "  </tbody>\n",
       "</table>\n",
       "</div>"
      ],
      "text/plain": [
       "                Model Make Year       Transmission Type Travelled (km)  \\\n",
       "0        Holden Astra      2005     Manual transmission        220604    \n",
       "1         Ford Fiesta      2005     Manual transmission        154608    \n",
       "2   Mitsubishi Lancer      1998  Automatic Transmission        202,243   \n",
       "3       Dodge Caliber      2011  Automatic Transmission       136,346    \n",
       "4     Peugeot 308 HDi      2010     Manual transmission        99,281    \n",
       "5  Renault Koleos SUV      2010     Manual transmission        170,000   \n",
       "\n",
       "  Price ($)  \n",
       "0      5400  \n",
       "1      5490  \n",
       "2      5400  \n",
       "3      8900  \n",
       "4      9400  \n",
       "5      9990  "
      ]
     },
     "execution_count": 12,
     "metadata": {},
     "output_type": "execute_result"
    }
   ],
   "source": [
    "car = [car[i: i+5] for i in range(0, len(car), 5)]\n",
    "df = pd.DataFrame(car, columns=['Model', 'Make Year','Transmission Type','Travelled (km)','Price ($)'])\n",
    "df"
   ]
  },
  {
   "cell_type": "markdown",
   "id": "1d446d6c",
   "metadata": {},
   "source": [
    "Now we have successfully scrapping data from the first page. We need to find a way that we can pull data from all pages. Before that, let's write above work into a function so we can recall that later."
   ]
  },
  {
   "cell_type": "code",
   "execution_count": 13,
   "id": "ea69c49a",
   "metadata": {},
   "outputs": [],
   "source": [
    "def car_scrapping(url):\n",
    "    \n",
    "    agent = {'User-agent': 'Mozilla/5.0 (Windows NT 10.0; Win64; x64) AppleWebKit/537.36 (KHTML, like Gecko) Chrome/105.0.0.0 Safari/537.36'}\n",
    "    page = requests.get(url, headers=agent)\n",
    "    \n",
    "    soup = BeautifulSoup(page.content, 'html.parser')\n",
    "    lists = soup.find_all('div', class_=\"card mb-4 w-100 border border-0 border-warning\")\n",
    "\n",
    "    car = []\n",
    "    for list in lists:\n",
    "        price = list.find('h5', class_=\"mb-3 text-center\").text.replace('\\n', '').replace('$', '')\n",
    "        price = price.replace(u' \\xa0', u'')\n",
    "        vehicles = list.find_all('li', style=\"list-style-type:none!important;font-size:15px;line-height:25px;text-align: left;\")\n",
    "        for vehicle in vehicles:\n",
    "            vehicle = str(vehicle).split(\">\")[-2][:-4].replace('\\xa0', '').replace('kms ', '').replace('kms', u'').replace('Year', '').replace(' model','')\n",
    "            car.append(vehicle)\n",
    "        \n",
    "        car.append(price)\n",
    "    return car"
   ]
  },
  {
   "cell_type": "markdown",
   "id": "21c4f481",
   "metadata": {},
   "source": [
    "First, let's get the total page numbers with find_all function from bs4. It returns all page link buttons, and the \"26\" is what we need."
   ]
  },
  {
   "cell_type": "code",
   "execution_count": 14,
   "id": "ffadb2aa",
   "metadata": {},
   "outputs": [
    {
     "data": {
      "text/plain": [
       "[<a class=\"page-link\" href=\"https://www.sydneycars.com.au/page/2\">2</a>,\n",
       " <a class=\"page-link\" href=\"https://www.sydneycars.com.au/page/3\">3</a>,\n",
       " <a class=\"page-link\" href=\"https://www.sydneycars.com.au/page/4\">4</a>,\n",
       " <a class=\"page-link\" href=\"https://www.sydneycars.com.au/page/5\">5</a>,\n",
       " <a class=\"page-link\" href=\"https://www.sydneycars.com.au/page/25\">25</a>,\n",
       " <a class=\"page-link\" href=\"https://www.sydneycars.com.au/page/26\">26</a>,\n",
       " <a class=\"page-link\" href=\"https://www.sydneycars.com.au/page/2\">Next</a>]"
      ]
     },
     "execution_count": 14,
     "metadata": {},
     "output_type": "execute_result"
    }
   ],
   "source": [
    "page_text = soup.find_all('a', class_=\"page-link\")\n",
    "page_text"
   ]
  },
  {
   "cell_type": "markdown",
   "id": "909035cd",
   "metadata": {},
   "source": [
    "From here, we want to use multiple split functions to get the pages numbers and save it as an integer."
   ]
  },
  {
   "cell_type": "code",
   "execution_count": 15,
   "id": "e6e441d7",
   "metadata": {},
   "outputs": [
    {
     "data": {
      "text/plain": [
       "26"
      ]
     },
     "execution_count": 15,
     "metadata": {},
     "output_type": "execute_result"
    }
   ],
   "source": [
    "pages = int(str(page_text).split(\",\")[-2].split(\">\")[-2][:-3])\n",
    "pages"
   ]
  },
  {
   "cell_type": "markdown",
   "id": "8c5c15a5",
   "metadata": {},
   "source": [
    "Now, let's loop though all pages and run function car_scrapping(). This will gives us data from all pages."
   ]
  },
  {
   "cell_type": "code",
   "execution_count": 22,
   "id": "aa3367da",
   "metadata": {},
   "outputs": [
    {
     "data": {
      "text/html": [
       "<div>\n",
       "<style scoped>\n",
       "    .dataframe tbody tr th:only-of-type {\n",
       "        vertical-align: middle;\n",
       "    }\n",
       "\n",
       "    .dataframe tbody tr th {\n",
       "        vertical-align: top;\n",
       "    }\n",
       "\n",
       "    .dataframe thead th {\n",
       "        text-align: right;\n",
       "    }\n",
       "</style>\n",
       "<table border=\"1\" class=\"dataframe\">\n",
       "  <thead>\n",
       "    <tr style=\"text-align: right;\">\n",
       "      <th></th>\n",
       "      <th>Model</th>\n",
       "      <th>Make Year</th>\n",
       "      <th>Transmission Type</th>\n",
       "      <th>Travelled (km)</th>\n",
       "      <th>Price ($)</th>\n",
       "    </tr>\n",
       "  </thead>\n",
       "  <tbody>\n",
       "    <tr>\n",
       "      <th>0</th>\n",
       "      <td>Holden Astra</td>\n",
       "      <td>2005</td>\n",
       "      <td>Manual transmission</td>\n",
       "      <td>220604</td>\n",
       "      <td>5400</td>\n",
       "    </tr>\n",
       "    <tr>\n",
       "      <th>1</th>\n",
       "      <td>Ford Fiesta</td>\n",
       "      <td>2005</td>\n",
       "      <td>Manual transmission</td>\n",
       "      <td>154608</td>\n",
       "      <td>5490</td>\n",
       "    </tr>\n",
       "    <tr>\n",
       "      <th>2</th>\n",
       "      <td>Mitsubishi Lancer</td>\n",
       "      <td>1998</td>\n",
       "      <td>Automatic Transmission</td>\n",
       "      <td>202,243</td>\n",
       "      <td>5400</td>\n",
       "    </tr>\n",
       "    <tr>\n",
       "      <th>3</th>\n",
       "      <td>Dodge Caliber</td>\n",
       "      <td>2011</td>\n",
       "      <td>Automatic Transmission</td>\n",
       "      <td>136,346</td>\n",
       "      <td>8900</td>\n",
       "    </tr>\n",
       "    <tr>\n",
       "      <th>4</th>\n",
       "      <td>Peugeot 308 HDi</td>\n",
       "      <td>2010</td>\n",
       "      <td>Manual transmission</td>\n",
       "      <td>99,281</td>\n",
       "      <td>9400</td>\n",
       "    </tr>\n",
       "    <tr>\n",
       "      <th>...</th>\n",
       "      <td>...</td>\n",
       "      <td>...</td>\n",
       "      <td>...</td>\n",
       "      <td>...</td>\n",
       "      <td>...</td>\n",
       "    </tr>\n",
       "    <tr>\n",
       "      <th>95</th>\n",
       "      <td>Kia Rio</td>\n",
       "      <td>2008</td>\n",
       "      <td>Manual transmission</td>\n",
       "      <td>245, 865</td>\n",
       "      <td>5490</td>\n",
       "    </tr>\n",
       "    <tr>\n",
       "      <th>96</th>\n",
       "      <td>Toyota Echo</td>\n",
       "      <td>2002</td>\n",
       "      <td>Automatic transmission</td>\n",
       "      <td>191,278</td>\n",
       "      <td>6950</td>\n",
       "    </tr>\n",
       "    <tr>\n",
       "      <th>97</th>\n",
       "      <td>Ford Laser</td>\n",
       "      <td>2001</td>\n",
       "      <td>Automatic Transmission</td>\n",
       "      <td>122,705</td>\n",
       "      <td>5400</td>\n",
       "    </tr>\n",
       "    <tr>\n",
       "      <th>98</th>\n",
       "      <td>Ford Falcon XR6</td>\n",
       "      <td>2003</td>\n",
       "      <td>Automatic transmission</td>\n",
       "      <td>166,000</td>\n",
       "      <td>7950</td>\n",
       "    </tr>\n",
       "    <tr>\n",
       "      <th>99</th>\n",
       "      <td>Kia Sportage LX AD Wagon</td>\n",
       "      <td>2008</td>\n",
       "      <td>Manual Transmission</td>\n",
       "      <td>103,978</td>\n",
       "      <td>7750</td>\n",
       "    </tr>\n",
       "  </tbody>\n",
       "</table>\n",
       "<p>100 rows × 5 columns</p>\n",
       "</div>"
      ],
      "text/plain": [
       "                       Model Make Year       Transmission Type Travelled (km)  \\\n",
       "0               Holden Astra      2005     Manual transmission        220604    \n",
       "1                Ford Fiesta      2005     Manual transmission        154608    \n",
       "2          Mitsubishi Lancer      1998  Automatic Transmission        202,243   \n",
       "3              Dodge Caliber      2011  Automatic Transmission       136,346    \n",
       "4            Peugeot 308 HDi      2010     Manual transmission        99,281    \n",
       "..                       ...       ...                     ...            ...   \n",
       "95                   Kia Rio      2008     Manual transmission      245, 865    \n",
       "96               Toyota Echo      2002  Automatic transmission       191,278    \n",
       "97               Ford Laser       2001  Automatic Transmission       122,705    \n",
       "98           Ford Falcon XR6      2003  Automatic transmission       166,000    \n",
       "99  Kia Sportage LX AD Wagon      2008     Manual Transmission        103,978   \n",
       "\n",
       "   Price ($)  \n",
       "0       5400  \n",
       "1       5490  \n",
       "2       5400  \n",
       "3       8900  \n",
       "4       9400  \n",
       "..       ...  \n",
       "95      5490  \n",
       "96      6950  \n",
       "97      5400  \n",
       "98      7950  \n",
       "99      7750  \n",
       "\n",
       "[100 rows x 5 columns]"
      ]
     },
     "execution_count": 22,
     "metadata": {},
     "output_type": "execute_result"
    }
   ],
   "source": [
    "car = []\n",
    "for page in range(1, pages + 1):\n",
    "    url = f\"https://www.sydneycars.com.au/page/{page}/\"\n",
    "    \n",
    "    car = car+ car_scrapping(url)\n",
    "    \n",
    "car = [car[i: i+5] for i in range(0, len(car), 5)]\n",
    "\n",
    "df = pd.DataFrame(car, columns=['Model', 'Make Year','Transmission Type','Travelled (km)','Price ($)'])\n",
    "df.head(100)"
   ]
  },
  {
   "cell_type": "code",
   "execution_count": null,
   "id": "babb03e7",
   "metadata": {},
   "outputs": [],
   "source": []
  }
 ],
 "metadata": {
  "kernelspec": {
   "display_name": "Python 3 (ipykernel)",
   "language": "python",
   "name": "python3"
  },
  "language_info": {
   "codemirror_mode": {
    "name": "ipython",
    "version": 3
   },
   "file_extension": ".py",
   "mimetype": "text/x-python",
   "name": "python",
   "nbconvert_exporter": "python",
   "pygments_lexer": "ipython3",
   "version": "3.7.4"
  }
 },
 "nbformat": 4,
 "nbformat_minor": 5
}
